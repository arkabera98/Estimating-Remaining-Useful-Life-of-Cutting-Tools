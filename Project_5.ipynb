{
  "cells": [
    {
      "cell_type": "markdown",
      "id": "80f2d9d3",
      "metadata": {
        "id": "80f2d9d3"
      },
      "source": [
        "# Project 5\n",
        "\n",
        "## Arka Bera, Het Mevada, John Pope, Dongyang Zhen"
      ]
    },
    {
      "cell_type": "markdown",
      "id": "fa981449",
      "metadata": {
        "id": "fa981449"
      },
      "source": [
        "## Import packages and load dataset"
      ]
    },
    {
      "cell_type": "code",
      "execution_count": null,
      "id": "8e31b0b9",
      "metadata": {
        "id": "8e31b0b9"
      },
      "outputs": [],
      "source": [
        "import pandas as pd\n",
        "import numpy as np\n",
        "import glob"
      ]
    },
    {
      "cell_type": "code",
      "source": [
        "from google.colab import drive\n",
        "drive.mount('/content/gdrive')"
      ],
      "metadata": {
        "id": "FkRx7BOjtJ6v"
      },
      "id": "FkRx7BOjtJ6v",
      "execution_count": null,
      "outputs": []
    },
    {
      "cell_type": "code",
      "source": [
        "# filepath = '/content/gdrive/MyDrive/ENME691_P5/'\n",
        "filepath = '/content/gdrive/MyDrive/ENME691/Project/Project 5/'"
      ],
      "metadata": {
        "id": "_kIGTih_teta"
      },
      "id": "_kIGTih_teta",
      "execution_count": null,
      "outputs": []
    },
    {
      "cell_type": "code",
      "execution_count": null,
      "id": "2685f048",
      "metadata": {
        "id": "2685f048"
      },
      "outputs": [],
      "source": [
        "colnames = ['force_x', 'force_y', 'force_z', 'vibration_x', 'vibration_y', 'vibration_z', 'AE-rms']"
      ]
    },
    {
      "cell_type": "code",
      "execution_count": null,
      "id": "fde4a28a",
      "metadata": {
        "id": "fde4a28a"
      },
      "outputs": [],
      "source": [
        "c1_data = []\n",
        "\n",
        "files = glob.glob(filepath+'Training Dataset/'+'c1/'+'*.csv')\n",
        "for file in files:\n",
        "    c1_data.append(pd.read_csv(file, names=colnames, header=None).to_numpy())\n",
        "\n",
        "c1_target = pd.read_csv(filepath+'Training Dataset/'+'c1_wear.csv', header = 0).drop(columns=['cut']).to_numpy()"
      ]
    },
    {
      "cell_type": "code",
      "execution_count": null,
      "id": "394f682d",
      "metadata": {
        "id": "394f682d"
      },
      "outputs": [],
      "source": [
        "c4_data = []\n",
        "\n",
        "files = glob.glob(filepath+'Training Dataset/'+'c4/'+'*.csv')\n",
        "for file in files:\n",
        "    c4_data.append(pd.read_csv(file, names=colnames, header=None).to_numpy())\n",
        "\n",
        "c4_target = pd.read_csv(filepath+'Training Dataset/'+'c4_wear.csv', header = 0).drop(columns=['cut']).to_numpy()"
      ]
    },
    {
      "cell_type": "code",
      "execution_count": null,
      "id": "98e4c129",
      "metadata": {
        "id": "98e4c129"
      },
      "outputs": [],
      "source": [
        "c6_data = []\n",
        "\n",
        "files = glob.glob(filepath+'Testing Dataset/'+'c6/'+'*.csv')\n",
        "for file in files:\n",
        "    c6_data.append(pd.read_csv(file, names=colnames, header=None).to_numpy())\n",
        "\n",
        "c6_target = pd.read_csv(filepath+'Testing Dataset/'+'c6_wear.csv', header = 0).drop(columns=['cut']).to_numpy()"
      ]
    },
    {
      "cell_type": "code",
      "source": [
        "c1_target = np.linalg.norm(c1_target, axis=1)\n",
        "c4_target = np.linalg.norm(c4_target, axis=1)\n",
        "c6_target = np.linalg.norm(c6_target, axis=1)"
      ],
      "metadata": {
        "id": "3LYRPihtCeIp"
      },
      "execution_count": null,
      "outputs": [],
      "id": "3LYRPihtCeIp"
    },
    {
      "cell_type": "code",
      "source": [
        "# Comment out the cells below to use full dataset"
      ],
      "metadata": {
        "id": "IdtRlhyZu2ZV"
      },
      "id": "IdtRlhyZu2ZV",
      "execution_count": null,
      "outputs": []
    },
    {
      "cell_type": "code",
      "source": [
        "c1_data = c1_data\n",
        "c1_target = c1_target"
      ],
      "metadata": {
        "id": "gDVnKS_H4FIn"
      },
      "id": "gDVnKS_H4FIn",
      "execution_count": null,
      "outputs": []
    },
    {
      "cell_type": "code",
      "source": [
        "c4_data = c4_data\n",
        "c4_target = c4_target"
      ],
      "metadata": {
        "id": "hWpZBnsjDZ_U"
      },
      "id": "hWpZBnsjDZ_U",
      "execution_count": null,
      "outputs": []
    },
    {
      "cell_type": "code",
      "source": [
        "c6_data = c6_data\n",
        "c6_target = c6_target"
      ],
      "metadata": {
        "id": "8QwQapQrDUfC"
      },
      "id": "8QwQapQrDUfC",
      "execution_count": null,
      "outputs": []
    },
    {
      "cell_type": "markdown",
      "id": "5dc96590",
      "metadata": {
        "id": "5dc96590"
      },
      "source": [
        "## Visualize training and test data"
      ]
    },
    {
      "cell_type": "code",
      "execution_count": null,
      "id": "19631441",
      "metadata": {
        "id": "19631441"
      },
      "outputs": [],
      "source": [
        "from matplotlib import pyplot as plt"
      ]
    },
    {
      "cell_type": "code",
      "execution_count": null,
      "id": "feb4211e",
      "metadata": {
        "id": "feb4211e"
      },
      "outputs": [],
      "source": [
        "# fig, ax = plt.subplots(7, figsize = (10, 40))\n",
        "force_x_c1 = a = [c1_data[i][:, 0] for i in range(len(c1_data))]\n",
        "# ax[0].plot(force_x_c1[0])\n",
        "force_y_c1 = a = [c1_data[i][:, 1] for i in range(len(c1_data))]\n",
        "# ax[1].plot(force_y_c1[0])\n",
        "force_z_c1 = a = [c1_data[i][:, 2] for i in range(len(c1_data))]\n",
        "# ax[2].plot(force_z_c1[0])\n",
        "vibration_x_c1 = a = [c1_data[i][:, 3] for i in range(len(c1_data))]\n",
        "# ax[3].plot(vibration_x_c1[0])\n",
        "vibration_y_c1 = a = [c1_data[i][:, 4] for i in range(len(c1_data))]\n",
        "# ax[4].plot(vibration_y_c1[0])\n",
        "vibration_z_c1 = a = [c1_data[i][:, 5] for i in range(len(c1_data))]\n",
        "# ax[5].plot(vibration_z_c1[0])\n",
        "AE_rms_c1 = a = [c1_data[i][:, 6] for i in range(len(c1_data))]\n",
        "# ax[6].plot(AE_rms_c1[0])\n",
        "# plt.suptitle(\"C1 Data\", fontsize = 16, y = 0.9)\n",
        "# for count, ele in enumerate(colnames):\n",
        "#     ax[count].set_title(ele)\n",
        "#     ax[count].set_xlabel('Time')\n",
        "#     ax[count].set_ylabel('Amplitude')"
      ]
    },
    {
      "cell_type": "code",
      "execution_count": null,
      "id": "1ee23b7a",
      "metadata": {
        "id": "1ee23b7a"
      },
      "outputs": [],
      "source": [
        "# fig, ax = plt.subplots(7, figsize = (10, 40))\n",
        "force_x_c4 = a = [c4_data[i][:, 0] for i in range(len(c4_data))]\n",
        "# ax[0].plot(force_x_c4[0])\n",
        "force_y_c4 = a = [c4_data[i][:, 1] for i in range(len(c4_data))]\n",
        "# ax[1].plot(force_y_c4[0])\n",
        "force_z_c4 = a = [c4_data[i][:, 2] for i in range(len(c4_data))]\n",
        "# ax[2].plot(force_z_c4[0])\n",
        "vibration_x_c4 = a = [c4_data[i][:, 3] for i in range(len(c4_data))]\n",
        "# ax[3].plot(vibration_x_c4[0])\n",
        "vibration_y_c4 = a = [c4_data[i][:, 4] for i in range(len(c4_data))]\n",
        "# ax[4].plot(vibration_y_c4[0])\n",
        "vibration_z_c4 = a = [c4_data[i][:, 5] for i in range(len(c4_data))]\n",
        "# ax[5].plot(vibration_z_c4[0])\n",
        "AE_rms_c4 = a = [c4_data[i][:, 6] for i in range(len(c4_data))]\n",
        "# ax[6].plot(AE_rms_c4[0])\n",
        "# plt.suptitle(\"C4 Data\", fontsize = 16, y = 0.9)\n",
        "# for count, ele in enumerate(colnames):\n",
        "#     ax[count].set_title(ele)\n",
        "#     ax[count].set_xlabel('Time')\n",
        "#     ax[count].set_ylabel('Amplitude')"
      ]
    },
    {
      "cell_type": "code",
      "execution_count": null,
      "id": "588937f5",
      "metadata": {
        "id": "588937f5"
      },
      "outputs": [],
      "source": [
        "# fig, ax = plt.subplots(7, figsize = (10, 40))\n",
        "force_x_c6 = a = [c6_data[i][:, 0] for i in range(len(c6_data))]\n",
        "# ax[0].plot(force_x_c6[0])\n",
        "force_y_c6 = a = [c6_data[i][:, 1] for i in range(len(c6_data))]\n",
        "# ax[1].plot(force_y_c6[0])\n",
        "force_z_c6 = a = [c6_data[i][:, 2] for i in range(len(c6_data))]\n",
        "# ax[2].plot(force_z_c6[0])\n",
        "vibration_x_c6 = a = [c6_data[i][:, 3] for i in range(len(c6_data))]\n",
        "# ax[3].plot(vibration_x_c6[0])\n",
        "vibration_y_c6 = a = [c6_data[i][:, 4] for i in range(len(c6_data))]\n",
        "# ax[4].plot(vibration_y_c6[0])\n",
        "vibration_z_c6 = a = [c6_data[i][:, 5] for i in range(len(c6_data))]\n",
        "# ax[5].plot(vibration_z_c6[0])\n",
        "AE_rms_c6 = a = [c6_data[i][:, 6] for i in range(len(c6_data))]\n",
        "# ax[6].plot(AE_rms_c6[0])\n",
        "# plt.suptitle(\"C6 Data\", fontsize = 16, y = 0.9)\n",
        "# for count, ele in enumerate(colnames):\n",
        "#     ax[count].set_title(ele)\n",
        "#     ax[count].set_xlabel('Time')\n",
        "#     ax[count].set_ylabel('Amplitude')"
      ]
    },
    {
      "cell_type": "markdown",
      "id": "43fb068e",
      "metadata": {
        "id": "43fb068e"
      },
      "source": [
        "## Feature Extraction"
      ]
    },
    {
      "cell_type": "code",
      "execution_count": null,
      "id": "2102d3e7",
      "metadata": {
        "id": "2102d3e7"
      },
      "outputs": [],
      "source": [
        "from scipy.stats import skew, kurtosis\n",
        "from scipy.fftpack import fft\n",
        "import pywt\n",
        "import seaborn as sns"
      ]
    },
    {
      "cell_type": "code",
      "source": [
        "def wavelet_energy(arr):\n",
        "  wavelet = 'db4'\n",
        "  level = 5\n",
        "\n",
        "  coeffs = pywt.wavedec(arr, wavelet, level=level)\n",
        "  wlet_energy = [np.sum(np.square(detail)) for detail in coeffs[1:]]\n",
        "\n",
        "  return np.sum(wlet_energy)"
      ],
      "metadata": {
        "id": "dPM1bN6Kiqgm"
      },
      "id": "dPM1bN6Kiqgm",
      "execution_count": null,
      "outputs": []
    },
    {
      "cell_type": "code",
      "source": [
        "from sklearn.preprocessing import MinMaxScaler\n",
        "scaler = MinMaxScaler(feature_range = (0, 1))"
      ],
      "metadata": {
        "id": "2sIs3ZX3u0cs"
      },
      "id": "2sIs3ZX3u0cs",
      "execution_count": null,
      "outputs": []
    },
    {
      "cell_type": "code",
      "source": [
        "# features for force_x_c1\n",
        "\n",
        "force_x_c1_rms = scaler.fit_transform(np.sqrt([np.mean(array**2) for array in force_x_c1]).reshape(-1, 1)).flatten()\n",
        "force_x_c1_var = scaler.fit_transform(np.array([np.var(array) for array in force_x_c1]).reshape(-1, 1)).flatten()\n",
        "force_x_c1_max = scaler.fit_transform(np.array([np.max(array) for array in force_x_c1]).reshape(-1, 1)).flatten()\n",
        "force_x_c1_skw = scaler.fit_transform(np.array([skew(array) for array in force_x_c1]).reshape(-1, 1)).flatten()\n",
        "force_x_c1_krt = scaler.fit_transform(np.array([kurtosis(array) for array in force_x_c1]).reshape(-1, 1)).flatten()\n",
        "force_x_c1_ptp = scaler.fit_transform(np.array([np.ptp(array) for array in force_x_c1]).reshape(-1, 1)).flatten()\n",
        "\n",
        "force_x_c1_fft = np.abs([fft(array) for array in force_x_c1])\n",
        "force_x_c1_sskw = scaler.fit_transform(np.array([skew(array) for array in force_x_c1_fft]).reshape(-1, 1)).flatten()\n",
        "force_x_c1_skrt = scaler.fit_transform(np.array([kurtosis(array) for array in force_x_c1_fft]).reshape(-1, 1)).flatten()\n",
        "\n",
        "force_x_c1_wave = scaler.fit_transform(np.array([wavelet_energy(array) for array in force_x_c1_fft]).reshape(-1, 1)).flatten()"
      ],
      "metadata": {
        "id": "LZjis5F4bkTA"
      },
      "id": "LZjis5F4bkTA",
      "execution_count": null,
      "outputs": []
    },
    {
      "cell_type": "code",
      "execution_count": null,
      "id": "a20b45fd",
      "metadata": {
        "id": "a20b45fd"
      },
      "outputs": [],
      "source": [
        "# features for force_y_c1\n",
        "\n",
        "force_y_c1_rms = scaler.fit_transform(np.sqrt([np.mean(array**2) for array in force_y_c1]).reshape(-1, 1)).flatten()\n",
        "force_y_c1_var = scaler.fit_transform(np.array([np.var(array) for array in force_y_c1]).reshape(-1, 1)).flatten()\n",
        "force_y_c1_max = scaler.fit_transform(np.array([np.max(array) for array in force_y_c1]).reshape(-1, 1)).flatten()\n",
        "force_y_c1_skw = scaler.fit_transform(np.array([skew(array) for array in force_y_c1]).reshape(-1, 1)).flatten()\n",
        "force_y_c1_krt = scaler.fit_transform(np.array([kurtosis(array) for array in force_y_c1]).reshape(-1, 1)).flatten()\n",
        "force_y_c1_ptp = scaler.fit_transform(np.array([np.ptp(array) for array in force_y_c1]).reshape(-1, 1)).flatten()\n",
        "\n",
        "force_y_c1_fft = np.abs([fft(array) for array in force_y_c1])\n",
        "force_y_c1_sskw = scaler.fit_transform(np.array([skew(array) for array in force_y_c1_fft]).reshape(-1, 1)).flatten()\n",
        "force_y_c1_skrt = scaler.fit_transform(np.array([kurtosis(array) for array in force_y_c1_fft]).reshape(-1, 1)).flatten()\n",
        "\n",
        "force_y_c1_wave = scaler.fit_transform(np.array([wavelet_energy(array) for array in force_y_c1_fft]).reshape(-1, 1)).flatten()"
      ]
    },
    {
      "cell_type": "code",
      "source": [
        "# features for force_z_c1\n",
        "\n",
        "force_z_c1_rms = scaler.fit_transform(np.sqrt([np.mean(array**2) for array in force_z_c1]).reshape(-1, 1)).flatten()\n",
        "force_z_c1_var = scaler.fit_transform(np.array([np.var(array) for array in force_z_c1]).reshape(-1, 1)).flatten()\n",
        "force_z_c1_max = scaler.fit_transform(np.array([np.max(array) for array in force_z_c1]).reshape(-1, 1)).flatten()\n",
        "force_z_c1_skw = scaler.fit_transform(np.array([skew(array) for array in force_z_c1]).reshape(-1, 1)).flatten()\n",
        "force_z_c1_krt = scaler.fit_transform(np.array([kurtosis(array) for array in force_z_c1]).reshape(-1, 1)).flatten()\n",
        "force_z_c1_ptp = scaler.fit_transform(np.array([np.ptp(array) for array in force_z_c1]).reshape(-1, 1)).flatten()\n",
        "\n",
        "force_z_c1_fft = np.abs([fft(array) for array in force_z_c1])\n",
        "force_z_c1_sskw = scaler.fit_transform(np.array([skew(array) for array in force_z_c1_fft]).reshape(-1, 1)).flatten()\n",
        "force_z_c1_skrt = scaler.fit_transform(np.array([kurtosis(array) for array in force_z_c1_fft]).reshape(-1, 1)).flatten()\n",
        "\n",
        "force_z_c1_wave = scaler.fit_transform(np.array([wavelet_energy(array) for array in force_z_c1_fft]).reshape(-1, 1)).flatten()"
      ],
      "metadata": {
        "id": "iJBzWIgtnkC_"
      },
      "id": "iJBzWIgtnkC_",
      "execution_count": null,
      "outputs": []
    },
    {
      "cell_type": "code",
      "source": [
        "# features for vibration_x_c1\n",
        "\n",
        "vibration_x_c1_rms = scaler.fit_transform(np.sqrt([np.mean(array**2) for array in vibration_x_c1]).reshape(-1, 1)).flatten()\n",
        "vibration_x_c1_var = scaler.fit_transform(np.array([np.var(array) for array in vibration_x_c1]).reshape(-1, 1)).flatten()\n",
        "vibration_x_c1_max = scaler.fit_transform(np.array([np.max(array) for array in vibration_x_c1]).reshape(-1, 1)).flatten()\n",
        "vibration_x_c1_skw = scaler.fit_transform(np.array([skew(array) for array in vibration_x_c1]).reshape(-1, 1)).flatten()\n",
        "vibration_x_c1_krt = scaler.fit_transform(np.array([kurtosis(array) for array in vibration_x_c1]).reshape(-1, 1)).flatten()\n",
        "vibration_x_c1_ptp = scaler.fit_transform(np.array([np.ptp(array) for array in vibration_x_c1]).reshape(-1, 1)).flatten()\n",
        "\n",
        "vibration_x_c1_fft = np.abs([fft(array) for array in vibration_x_c1])\n",
        "vibration_x_c1_sskw = scaler.fit_transform(np.array([skew(array) for array in vibration_x_c1_fft]).reshape(-1, 1)).flatten()\n",
        "vibration_x_c1_skrt = scaler.fit_transform(np.array([kurtosis(array) for array in vibration_x_c1_fft]).reshape(-1, 1)).flatten()\n",
        "\n",
        "vibration_x_c1_wave = scaler.fit_transform(np.array([wavelet_energy(array) for array in vibration_x_c1_fft]).reshape(-1, 1)).flatten()"
      ],
      "metadata": {
        "id": "fcrxTT_TnW2O"
      },
      "id": "fcrxTT_TnW2O",
      "execution_count": null,
      "outputs": []
    },
    {
      "cell_type": "code",
      "source": [
        "# features for vibration_y_c1\n",
        "\n",
        "vibration_y_c1_rms = scaler.fit_transform(np.sqrt([np.mean(array**2) for array in vibration_y_c1]).reshape(-1, 1)).flatten()\n",
        "vibration_y_c1_var = scaler.fit_transform(np.array([np.var(array) for array in vibration_y_c1]).reshape(-1, 1)).flatten()\n",
        "vibration_y_c1_max = scaler.fit_transform(np.array([np.max(array) for array in vibration_y_c1]).reshape(-1, 1)).flatten()\n",
        "vibration_y_c1_skw = scaler.fit_transform(np.array([skew(array) for array in vibration_y_c1]).reshape(-1, 1)).flatten()\n",
        "vibration_y_c1_krt = scaler.fit_transform(np.array([kurtosis(array) for array in vibration_y_c1]).reshape(-1, 1)).flatten()\n",
        "vibration_y_c1_ptp = scaler.fit_transform(np.array([np.ptp(array) for array in vibration_y_c1]).reshape(-1, 1)).flatten()\n",
        "\n",
        "vibration_y_c1_fft = np.abs([fft(array) for array in vibration_y_c1])\n",
        "vibration_y_c1_sskw = scaler.fit_transform(np.array([skew(array) for array in vibration_y_c1_fft]).reshape(-1, 1)).flatten()\n",
        "vibration_y_c1_skrt = scaler.fit_transform(np.array([kurtosis(array) for array in vibration_y_c1_fft]).reshape(-1, 1)).flatten()\n",
        "\n",
        "vibration_y_c1_wave = scaler.fit_transform(np.array([wavelet_energy(array) for array in vibration_y_c1_fft]).reshape(-1, 1)).flatten()"
      ],
      "metadata": {
        "id": "IU7oI6I-rGI_"
      },
      "id": "IU7oI6I-rGI_",
      "execution_count": null,
      "outputs": []
    },
    {
      "cell_type": "code",
      "source": [
        "# features for vibration_z_c1\n",
        "\n",
        "vibration_z_c1_rms = scaler.fit_transform(np.sqrt([np.mean(array**2) for array in vibration_z_c1]).reshape(-1, 1)).flatten()\n",
        "vibration_z_c1_var = scaler.fit_transform(np.array([np.var(array) for array in vibration_z_c1]).reshape(-1, 1)).flatten()\n",
        "vibration_z_c1_max = scaler.fit_transform(np.array([np.max(array) for array in vibration_z_c1]).reshape(-1, 1)).flatten()\n",
        "vibration_z_c1_skw = scaler.fit_transform(np.array([skew(array) for array in vibration_z_c1]).reshape(-1, 1)).flatten()\n",
        "vibration_z_c1_krt = scaler.fit_transform(np.array([kurtosis(array) for array in vibration_z_c1]).reshape(-1, 1)).flatten()\n",
        "vibration_z_c1_ptp = scaler.fit_transform(np.array([np.ptp(array) for array in vibration_z_c1]).reshape(-1, 1)).flatten()\n",
        "\n",
        "vibration_z_c1_fft = np.abs([fft(array) for array in vibration_z_c1])\n",
        "vibration_z_c1_sskw = scaler.fit_transform(np.array([skew(array) for array in vibration_z_c1_fft]).reshape(-1, 1)).flatten()\n",
        "vibration_z_c1_skrt = scaler.fit_transform(np.array([kurtosis(array) for array in vibration_z_c1_fft]).reshape(-1, 1)).flatten()\n",
        "\n",
        "vibration_z_c1_wave = scaler.fit_transform(np.array([wavelet_energy(array) for array in vibration_z_c1_fft]).reshape(-1, 1)).flatten()"
      ],
      "metadata": {
        "id": "vJfmE7BMrHEm"
      },
      "id": "vJfmE7BMrHEm",
      "execution_count": null,
      "outputs": []
    },
    {
      "cell_type": "code",
      "source": [
        "c1_features = np.stack((force_x_c1_rms, force_x_c1_var, force_x_c1_max,\n",
        "                        force_x_c1_skw, force_x_c1_krt, force_x_c1_ptp,\n",
        "                        force_x_c1_sskw, force_x_c1_skrt, force_x_c1_wave,\n",
        "                        force_y_c1_rms, force_y_c1_var, force_y_c1_max,\n",
        "                        force_y_c1_skw, force_y_c1_krt, force_y_c1_ptp,\n",
        "                        force_y_c1_sskw, force_y_c1_skrt, force_y_c1_wave,\n",
        "                        force_z_c1_rms, force_z_c1_var, force_z_c1_max,\n",
        "                        force_z_c1_skw, force_z_c1_krt, force_z_c1_ptp,\n",
        "                        force_z_c1_sskw, force_z_c1_skrt, force_z_c1_wave,\n",
        "                        vibration_x_c1_rms, vibration_x_c1_var, vibration_x_c1_max,\n",
        "                        vibration_x_c1_skw, vibration_x_c1_krt, vibration_x_c1_ptp,\n",
        "                        vibration_x_c1_sskw, vibration_x_c1_skrt, vibration_x_c1_wave,\n",
        "                        vibration_y_c1_rms, vibration_y_c1_var, vibration_y_c1_max,\n",
        "                        vibration_y_c1_skw, vibration_y_c1_krt, vibration_y_c1_ptp,\n",
        "                        vibration_y_c1_sskw, vibration_y_c1_skrt, vibration_y_c1_wave,\n",
        "                        vibration_z_c1_rms, vibration_z_c1_var, vibration_z_c1_max,\n",
        "                        vibration_z_c1_skw, vibration_z_c1_krt, vibration_z_c1_ptp,\n",
        "                        vibration_z_c1_sskw, vibration_z_c1_skrt, vibration_z_c1_wave\n",
        "                        ),\n",
        "                       axis = 1)"
      ],
      "metadata": {
        "id": "wuWyd6zy_d2D"
      },
      "id": "wuWyd6zy_d2D",
      "execution_count": null,
      "outputs": []
    },
    {
      "cell_type": "code",
      "source": [
        "c1_target = scaler.fit_transform(c1_target.reshape(-1, 1)).flatten()"
      ],
      "metadata": {
        "id": "a3-sDVZoiPBq"
      },
      "id": "a3-sDVZoiPBq",
      "execution_count": null,
      "outputs": []
    },
    {
      "cell_type": "code",
      "source": [
        "# sns.pairplot(pd.DataFrame(c1_features, columns = ['force_x_c1_rms', 'force_x_c1_var', 'force_x_c1_max',\n",
        "#                         'force_x_c1_skw', 'force_x_c1_krt', 'force_x_c1_ptp',\n",
        "#                         'force_x_c1_sskw', 'force_x_c1_skrt', 'force_x_c1_wave',\n",
        "#                         'force_y_c1_rms', 'force_y_c1_var', 'force_y_c1_max',\n",
        "#                         'force_y_c1_skw', 'force_y_c1_krt', 'force_y_c1_ptp',\n",
        "#                         'force_y_c1_sskw', 'force_y_c1_skrt', 'force_y_c1_wave',\n",
        "#                         'force_z_c1_rms', 'force_z_c1_var', 'force_z_c1_max',\n",
        "#                         'force_z_c1_skw', 'force_z_c1_krt', 'force_z_c1_ptp',\n",
        "#                         'force_z_c1_sskw', 'force_z_c1_skrt', 'force_z_c1_wave',\n",
        "#                         'vibration_x_c1_rms', 'vibration_x_c1_var', 'vibration_x_c1_max',\n",
        "#                         'vibration_x_c1_skw', 'vibration_x_c1_krt', 'vibration_x_c1_ptp',\n",
        "#                         'vibration_x_c1_sskw', 'vibration_x_c1_skrt', 'vibration_x_c1_wave',\n",
        "#                         'vibration_y_c1_rms', 'vibration_y_c1_var', 'vibration_y_c1_max',\n",
        "#                         'vibration_y_c1_skw', 'vibration_y_c1_krt', 'vibration_y_c1_ptp',\n",
        "#                         'vibration_y_c1_sskw', 'vibration_y_c1_skrt', 'vibration_y_c1_wave',\n",
        "#                         'vibration_z_c1_rms', 'vibration_z_c1_var', 'vibration_z_c1_max',\n",
        "#                         'vibration_z_c1_skw', 'vibration_z_c1_krt', 'vibration_z_c1_ptp',\n",
        "#                         'vibration_z_c1_sskw', 'vibration_z_c1_skrt', 'vibration_z_c1_wave']))"
      ],
      "metadata": {
        "id": "HMkEbQrrjPhE"
      },
      "id": "HMkEbQrrjPhE",
      "execution_count": null,
      "outputs": []
    },
    {
      "cell_type": "code",
      "source": [
        "# features for force_x_c4\n",
        "\n",
        "force_x_c4_rms = scaler.fit_transform(np.sqrt([np.mean(array**2) for array in force_x_c4]).reshape(-1, 1)).flatten()\n",
        "force_x_c4_var = scaler.fit_transform(np.array([np.var(array) for array in force_x_c4]).reshape(-1, 1)).flatten()\n",
        "force_x_c4_max = scaler.fit_transform(np.array([np.max(array) for array in force_x_c4]).reshape(-1, 1)).flatten()\n",
        "force_x_c4_skw = scaler.fit_transform(np.array([skew(array) for array in force_x_c4]).reshape(-1, 1)).flatten()\n",
        "force_x_c4_krt = scaler.fit_transform(np.array([kurtosis(array) for array in force_x_c4]).reshape(-1, 1)).flatten()\n",
        "force_x_c4_ptp = scaler.fit_transform(np.array([np.ptp(array) for array in force_x_c4]).reshape(-1, 1)).flatten()\n",
        "\n",
        "force_x_c4_fft = np.abs([fft(array) for array in force_x_c4])\n",
        "force_x_c4_sskw = scaler.fit_transform(np.array([skew(array) for array in force_x_c4_fft]).reshape(-1, 1)).flatten()\n",
        "force_x_c4_skrt = scaler.fit_transform(np.array([kurtosis(array) for array in force_x_c4_fft]).reshape(-1, 1)).flatten()\n",
        "\n",
        "force_x_c4_wave = scaler.fit_transform(np.array([wavelet_energy(array) for array in force_x_c4_fft]).reshape(-1, 1)).flatten()"
      ],
      "metadata": {
        "id": "kotifBg99e5d"
      },
      "execution_count": null,
      "outputs": [],
      "id": "kotifBg99e5d"
    },
    {
      "cell_type": "code",
      "execution_count": null,
      "metadata": {
        "id": "hVb9BFcM9e5e"
      },
      "outputs": [],
      "source": [
        "# features for force_y_c4\n",
        "\n",
        "force_y_c4_rms = scaler.fit_transform(np.sqrt([np.mean(array**2) for array in force_y_c4]).reshape(-1, 1)).flatten()\n",
        "force_y_c4_var = scaler.fit_transform(np.array([np.var(array) for array in force_y_c4]).reshape(-1, 1)).flatten()\n",
        "force_y_c4_max = scaler.fit_transform(np.array([np.max(array) for array in force_y_c4]).reshape(-1, 1)).flatten()\n",
        "force_y_c4_skw = scaler.fit_transform(np.array([skew(array) for array in force_y_c4]).reshape(-1, 1)).flatten()\n",
        "force_y_c4_krt = scaler.fit_transform(np.array([kurtosis(array) for array in force_y_c4]).reshape(-1, 1)).flatten()\n",
        "force_y_c4_ptp = scaler.fit_transform(np.array([np.ptp(array) for array in force_y_c4]).reshape(-1, 1)).flatten()\n",
        "\n",
        "force_y_c4_fft = np.abs([fft(array) for array in force_y_c4])\n",
        "force_y_c4_sskw = scaler.fit_transform(np.array([skew(array) for array in force_y_c4_fft]).reshape(-1, 1)).flatten()\n",
        "force_y_c4_skrt = scaler.fit_transform(np.array([kurtosis(array) for array in force_y_c4_fft]).reshape(-1, 1)).flatten()\n",
        "\n",
        "force_y_c4_wave = scaler.fit_transform(np.array([wavelet_energy(array) for array in force_y_c4_fft]).reshape(-1, 1)).flatten()"
      ],
      "id": "hVb9BFcM9e5e"
    },
    {
      "cell_type": "code",
      "source": [
        "# features for force_z_c4\n",
        "\n",
        "force_z_c4_rms = scaler.fit_transform(np.sqrt([np.mean(array**2) for array in force_z_c4]).reshape(-1, 1)).flatten()\n",
        "force_z_c4_var = scaler.fit_transform(np.array([np.var(array) for array in force_z_c4]).reshape(-1, 1)).flatten()\n",
        "force_z_c4_max = scaler.fit_transform(np.array([np.max(array) for array in force_z_c4]).reshape(-1, 1)).flatten()\n",
        "force_z_c4_skw = scaler.fit_transform(np.array([skew(array) for array in force_z_c4]).reshape(-1, 1)).flatten()\n",
        "force_z_c4_krt = scaler.fit_transform(np.array([kurtosis(array) for array in force_z_c4]).reshape(-1, 1)).flatten()\n",
        "force_z_c4_ptp = scaler.fit_transform(np.array([np.ptp(array) for array in force_z_c4]).reshape(-1, 1)).flatten()\n",
        "\n",
        "force_z_c4_fft = np.abs([fft(array) for array in force_z_c4])\n",
        "force_z_c4_sskw = scaler.fit_transform(np.array([skew(array) for array in force_z_c4_fft]).reshape(-1, 1)).flatten()\n",
        "force_z_c4_skrt = scaler.fit_transform(np.array([kurtosis(array) for array in force_z_c4_fft]).reshape(-1, 1)).flatten()\n",
        "\n",
        "force_z_c4_wave = scaler.fit_transform(np.array([wavelet_energy(array) for array in force_z_c4_fft]).reshape(-1, 1)).flatten()"
      ],
      "metadata": {
        "id": "0_UAfNTm9e5e"
      },
      "execution_count": null,
      "outputs": [],
      "id": "0_UAfNTm9e5e"
    },
    {
      "cell_type": "code",
      "source": [
        "# features for vibration_x_c4\n",
        "\n",
        "vibration_x_c4_rms = scaler.fit_transform(np.sqrt([np.mean(array**2) for array in vibration_x_c4]).reshape(-1, 1)).flatten()\n",
        "vibration_x_c4_var = scaler.fit_transform(np.array([np.var(array) for array in vibration_x_c4]).reshape(-1, 1)).flatten()\n",
        "vibration_x_c4_max = scaler.fit_transform(np.array([np.max(array) for array in vibration_x_c4]).reshape(-1, 1)).flatten()\n",
        "vibration_x_c4_skw = scaler.fit_transform(np.array([skew(array) for array in vibration_x_c4]).reshape(-1, 1)).flatten()\n",
        "vibration_x_c4_krt = scaler.fit_transform(np.array([kurtosis(array) for array in vibration_x_c4]).reshape(-1, 1)).flatten()\n",
        "vibration_x_c4_ptp = scaler.fit_transform(np.array([np.ptp(array) for array in vibration_x_c4]).reshape(-1, 1)).flatten()\n",
        "\n",
        "vibration_x_c4_fft = np.abs([fft(array) for array in vibration_x_c4])\n",
        "vibration_x_c4_sskw = scaler.fit_transform(np.array([skew(array) for array in vibration_x_c4_fft]).reshape(-1, 1)).flatten()\n",
        "vibration_x_c4_skrt = scaler.fit_transform(np.array([kurtosis(array) for array in vibration_x_c4_fft]).reshape(-1, 1)).flatten()\n",
        "\n",
        "vibration_x_c4_wave = scaler.fit_transform(np.array([wavelet_energy(array) for array in vibration_x_c4_fft]).reshape(-1, 1)).flatten()"
      ],
      "metadata": {
        "id": "J6wFhptm9e5f"
      },
      "execution_count": null,
      "outputs": [],
      "id": "J6wFhptm9e5f"
    },
    {
      "cell_type": "code",
      "source": [
        "# features for vibration_y_c4\n",
        "\n",
        "vibration_y_c4_rms = scaler.fit_transform(np.sqrt([np.mean(array**2) for array in vibration_y_c4]).reshape(-1, 1)).flatten()\n",
        "vibration_y_c4_var = scaler.fit_transform(np.array([np.var(array) for array in vibration_y_c4]).reshape(-1, 1)).flatten()\n",
        "vibration_y_c4_max = scaler.fit_transform(np.array([np.max(array) for array in vibration_y_c4]).reshape(-1, 1)).flatten()\n",
        "vibration_y_c4_skw = scaler.fit_transform(np.array([skew(array) for array in vibration_y_c4]).reshape(-1, 1)).flatten()\n",
        "vibration_y_c4_krt = scaler.fit_transform(np.array([kurtosis(array) for array in vibration_y_c4]).reshape(-1, 1)).flatten()\n",
        "vibration_y_c4_ptp = scaler.fit_transform(np.array([np.ptp(array) for array in vibration_y_c4]).reshape(-1, 1)).flatten()\n",
        "\n",
        "vibration_y_c4_fft = np.abs([fft(array) for array in vibration_y_c4])\n",
        "vibration_y_c4_sskw = scaler.fit_transform(np.array([skew(array) for array in vibration_y_c4_fft]).reshape(-1, 1)).flatten()\n",
        "vibration_y_c4_skrt = scaler.fit_transform(np.array([kurtosis(array) for array in vibration_y_c4_fft]).reshape(-1, 1)).flatten()\n",
        "\n",
        "vibration_y_c4_wave = scaler.fit_transform(np.array([wavelet_energy(array) for array in vibration_y_c4_fft]).reshape(-1, 1)).flatten()"
      ],
      "metadata": {
        "id": "7Fc45OHK9e5f"
      },
      "execution_count": null,
      "outputs": [],
      "id": "7Fc45OHK9e5f"
    },
    {
      "cell_type": "code",
      "source": [
        "# features for vibration_z_c4\n",
        "\n",
        "vibration_z_c4_rms = scaler.fit_transform(np.sqrt([np.mean(array**2) for array in vibration_z_c4]).reshape(-1, 1)).flatten()\n",
        "vibration_z_c4_var = scaler.fit_transform(np.array([np.var(array) for array in vibration_z_c4]).reshape(-1, 1)).flatten()\n",
        "vibration_z_c4_max = scaler.fit_transform(np.array([np.max(array) for array in vibration_z_c4]).reshape(-1, 1)).flatten()\n",
        "vibration_z_c4_skw = scaler.fit_transform(np.array([skew(array) for array in vibration_z_c4]).reshape(-1, 1)).flatten()\n",
        "vibration_z_c4_krt = scaler.fit_transform(np.array([kurtosis(array) for array in vibration_z_c4]).reshape(-1, 1)).flatten()\n",
        "vibration_z_c4_ptp = scaler.fit_transform(np.array([np.ptp(array) for array in vibration_z_c4]).reshape(-1, 1)).flatten()\n",
        "\n",
        "vibration_z_c4_fft = np.abs([fft(array) for array in vibration_z_c4])\n",
        "vibration_z_c4_sskw = scaler.fit_transform(np.array([skew(array) for array in vibration_z_c4_fft]).reshape(-1, 1)).flatten()\n",
        "vibration_z_c4_skrt = scaler.fit_transform(np.array([kurtosis(array) for array in vibration_z_c4_fft]).reshape(-1, 1)).flatten()\n",
        "\n",
        "vibration_z_c4_wave = scaler.fit_transform(np.array([wavelet_energy(array) for array in vibration_z_c4_fft]).reshape(-1, 1)).flatten()"
      ],
      "metadata": {
        "id": "cXogprHD9e5f"
      },
      "execution_count": null,
      "outputs": [],
      "id": "cXogprHD9e5f"
    },
    {
      "cell_type": "code",
      "source": [
        "c4_features = np.stack((force_x_c4_rms, force_x_c4_var, force_x_c4_max,\n",
        "                        force_x_c4_skw, force_x_c4_krt, force_x_c4_ptp,\n",
        "                        force_x_c4_sskw, force_x_c4_skrt, force_x_c4_wave,\n",
        "                        force_y_c4_rms, force_y_c4_var, force_y_c4_max,\n",
        "                        force_y_c4_skw, force_y_c4_krt, force_y_c4_ptp,\n",
        "                        force_y_c4_sskw, force_y_c4_skrt, force_y_c4_wave,\n",
        "                        force_z_c4_rms, force_z_c4_var, force_z_c4_max,\n",
        "                        force_z_c4_skw, force_z_c4_krt, force_z_c4_ptp,\n",
        "                        force_z_c4_sskw, force_z_c4_skrt, force_z_c4_wave,\n",
        "                        vibration_x_c4_rms, vibration_x_c4_var, vibration_x_c4_max,\n",
        "                        vibration_x_c4_skw, vibration_x_c4_krt, vibration_x_c4_ptp,\n",
        "                        vibration_x_c4_sskw, vibration_x_c4_skrt, vibration_x_c4_wave,\n",
        "                        vibration_y_c4_rms, vibration_y_c4_var, vibration_y_c4_max,\n",
        "                        vibration_y_c4_skw, vibration_y_c4_krt, vibration_y_c4_ptp,\n",
        "                        vibration_y_c4_sskw, vibration_y_c4_skrt, vibration_y_c4_wave,\n",
        "                        vibration_z_c4_rms, vibration_z_c4_var, vibration_z_c4_max,\n",
        "                        vibration_z_c4_skw, vibration_z_c4_krt, vibration_z_c4_ptp,\n",
        "                        vibration_z_c4_sskw, vibration_z_c4_skrt, vibration_z_c4_wave\n",
        "                        ),\n",
        "                       axis = 1)"
      ],
      "metadata": {
        "id": "07cq7m_r9e5f"
      },
      "execution_count": null,
      "outputs": [],
      "id": "07cq7m_r9e5f"
    },
    {
      "cell_type": "code",
      "source": [
        "c4_target = scaler.fit_transform(c4_target.reshape(-1, 1)).flatten()"
      ],
      "metadata": {
        "id": "yHS3Apd_h2ea"
      },
      "id": "yHS3Apd_h2ea",
      "execution_count": null,
      "outputs": []
    },
    {
      "cell_type": "code",
      "source": [
        "# features for force_x_c6\n",
        "\n",
        "force_x_c6_rms = scaler.fit_transform(np.sqrt([np.mean(array**2) for array in force_x_c6]).reshape(-1, 1)).flatten()\n",
        "force_x_c6_var = scaler.fit_transform(np.array([np.var(array) for array in force_x_c6]).reshape(-1, 1)).flatten()\n",
        "force_x_c6_max = scaler.fit_transform(np.array([np.max(array) for array in force_x_c6]).reshape(-1, 1)).flatten()\n",
        "force_x_c6_skw = scaler.fit_transform(np.array([skew(array) for array in force_x_c6]).reshape(-1, 1)).flatten()\n",
        "force_x_c6_krt = scaler.fit_transform(np.array([kurtosis(array) for array in force_x_c6]).reshape(-1, 1)).flatten()\n",
        "force_x_c6_ptp = scaler.fit_transform(np.array([np.ptp(array) for array in force_x_c6]).reshape(-1, 1)).flatten()\n",
        "\n",
        "force_x_c6_fft = np.abs([fft(array) for array in force_x_c6])\n",
        "force_x_c6_sskw = scaler.fit_transform(np.array([skew(array) for array in force_x_c6_fft]).reshape(-1, 1)).flatten()\n",
        "force_x_c6_skrt = scaler.fit_transform(np.array([kurtosis(array) for array in force_x_c6_fft]).reshape(-1, 1)).flatten()\n",
        "\n",
        "force_x_c6_wave = scaler.fit_transform(np.array([wavelet_energy(array) for array in force_x_c6_fft]).reshape(-1, 1)).flatten()"
      ],
      "metadata": {
        "id": "jhdn75Xa9jeb"
      },
      "execution_count": null,
      "outputs": [],
      "id": "jhdn75Xa9jeb"
    },
    {
      "cell_type": "code",
      "execution_count": null,
      "metadata": {
        "id": "aSjgJao29jei"
      },
      "outputs": [],
      "source": [
        "# features for force_y_c6\n",
        "\n",
        "force_y_c6_rms = scaler.fit_transform(np.sqrt([np.mean(array**2) for array in force_y_c6]).reshape(-1, 1)).flatten()\n",
        "force_y_c6_var = scaler.fit_transform(np.array([np.var(array) for array in force_y_c6]).reshape(-1, 1)).flatten()\n",
        "force_y_c6_max = scaler.fit_transform(np.array([np.max(array) for array in force_y_c6]).reshape(-1, 1)).flatten()\n",
        "force_y_c6_skw = scaler.fit_transform(np.array([skew(array) for array in force_y_c6]).reshape(-1, 1)).flatten()\n",
        "force_y_c6_krt = scaler.fit_transform(np.array([kurtosis(array) for array in force_y_c6]).reshape(-1, 1)).flatten()\n",
        "force_y_c6_ptp = scaler.fit_transform(np.array([np.ptp(array) for array in force_y_c6]).reshape(-1, 1)).flatten()\n",
        "\n",
        "force_y_c6_fft = np.abs([fft(array) for array in force_y_c6])\n",
        "force_y_c6_sskw = scaler.fit_transform(np.array([skew(array) for array in force_y_c6_fft]).reshape(-1, 1)).flatten()\n",
        "force_y_c6_skrt = scaler.fit_transform(np.array([kurtosis(array) for array in force_y_c6_fft]).reshape(-1, 1)).flatten()\n",
        "\n",
        "force_y_c6_wave = scaler.fit_transform(np.array([wavelet_energy(array) for array in force_y_c6_fft]).reshape(-1, 1)).flatten()"
      ],
      "id": "aSjgJao29jei"
    },
    {
      "cell_type": "code",
      "source": [
        "# features for force_z_c6\n",
        "\n",
        "force_z_c6_rms = scaler.fit_transform(np.sqrt([np.mean(array**2) for array in force_z_c6]).reshape(-1, 1)).flatten()\n",
        "force_z_c6_var = scaler.fit_transform(np.array([np.var(array) for array in force_z_c6]).reshape(-1, 1)).flatten()\n",
        "force_z_c6_max = scaler.fit_transform(np.array([np.max(array) for array in force_z_c6]).reshape(-1, 1)).flatten()\n",
        "force_z_c6_skw = scaler.fit_transform(np.array([skew(array) for array in force_z_c6]).reshape(-1, 1)).flatten()\n",
        "force_z_c6_krt = scaler.fit_transform(np.array([kurtosis(array) for array in force_z_c6]).reshape(-1, 1)).flatten()\n",
        "force_z_c6_ptp = scaler.fit_transform(np.array([np.ptp(array) for array in force_z_c6]).reshape(-1, 1)).flatten()\n",
        "\n",
        "force_z_c6_fft = np.abs([fft(array) for array in force_z_c6])\n",
        "force_z_c6_sskw = scaler.fit_transform(np.array([skew(array) for array in force_z_c6_fft]).reshape(-1, 1)).flatten()\n",
        "force_z_c6_skrt = scaler.fit_transform(np.array([kurtosis(array) for array in force_z_c6_fft]).reshape(-1, 1)).flatten()\n",
        "\n",
        "force_z_c6_wave = scaler.fit_transform(np.array([wavelet_energy(array) for array in force_z_c6_fft]).reshape(-1, 1)).flatten()"
      ],
      "metadata": {
        "id": "_2gSjbeY9jei"
      },
      "execution_count": null,
      "outputs": [],
      "id": "_2gSjbeY9jei"
    },
    {
      "cell_type": "code",
      "source": [
        "# features for vibration_x_c6\n",
        "\n",
        "vibration_x_c6_rms = scaler.fit_transform(np.sqrt([np.mean(array**2) for array in vibration_x_c6]).reshape(-1, 1)).flatten()\n",
        "vibration_x_c6_var = scaler.fit_transform(np.array([np.var(array) for array in vibration_x_c6]).reshape(-1, 1)).flatten()\n",
        "vibration_x_c6_max = scaler.fit_transform(np.array([np.max(array) for array in vibration_x_c6]).reshape(-1, 1)).flatten()\n",
        "vibration_x_c6_skw = scaler.fit_transform(np.array([skew(array) for array in vibration_x_c6]).reshape(-1, 1)).flatten()\n",
        "vibration_x_c6_krt = scaler.fit_transform(np.array([kurtosis(array) for array in vibration_x_c6]).reshape(-1, 1)).flatten()\n",
        "vibration_x_c6_ptp = scaler.fit_transform(np.array([np.ptp(array) for array in vibration_x_c6]).reshape(-1, 1)).flatten()\n",
        "\n",
        "vibration_x_c6_fft = np.abs([fft(array) for array in vibration_x_c6])\n",
        "vibration_x_c6_sskw = scaler.fit_transform(np.array([skew(array) for array in vibration_x_c6_fft]).reshape(-1, 1)).flatten()\n",
        "vibration_x_c6_skrt = scaler.fit_transform(np.array([kurtosis(array) for array in vibration_x_c6_fft]).reshape(-1, 1)).flatten()\n",
        "\n",
        "vibration_x_c6_wave = scaler.fit_transform(np.array([wavelet_energy(array) for array in vibration_x_c6_fft]).reshape(-1, 1)).flatten()"
      ],
      "metadata": {
        "id": "FOdEtOjO9jej"
      },
      "execution_count": null,
      "outputs": [],
      "id": "FOdEtOjO9jej"
    },
    {
      "cell_type": "code",
      "source": [
        "# features for vibration_y_c6\n",
        "\n",
        "vibration_y_c6_rms = scaler.fit_transform(np.sqrt([np.mean(array**2) for array in vibration_y_c6]).reshape(-1, 1)).flatten()\n",
        "vibration_y_c6_var = scaler.fit_transform(np.array([np.var(array) for array in vibration_y_c6]).reshape(-1, 1)).flatten()\n",
        "vibration_y_c6_max = scaler.fit_transform(np.array([np.max(array) for array in vibration_y_c6]).reshape(-1, 1)).flatten()\n",
        "vibration_y_c6_skw = scaler.fit_transform(np.array([skew(array) for array in vibration_y_c6]).reshape(-1, 1)).flatten()\n",
        "vibration_y_c6_krt = scaler.fit_transform(np.array([kurtosis(array) for array in vibration_y_c6]).reshape(-1, 1)).flatten()\n",
        "vibration_y_c6_ptp = scaler.fit_transform(np.array([np.ptp(array) for array in vibration_y_c6]).reshape(-1, 1)).flatten()\n",
        "\n",
        "vibration_y_c6_fft = np.abs([fft(array) for array in vibration_y_c6])\n",
        "vibration_y_c6_sskw = scaler.fit_transform(np.array([skew(array) for array in vibration_y_c6_fft]).reshape(-1, 1)).flatten()\n",
        "vibration_y_c6_skrt = scaler.fit_transform(np.array([kurtosis(array) for array in vibration_y_c6_fft]).reshape(-1, 1)).flatten()\n",
        "\n",
        "vibration_y_c6_wave = scaler.fit_transform(np.array([wavelet_energy(array) for array in vibration_y_c6_fft]).reshape(-1, 1)).flatten()"
      ],
      "metadata": {
        "id": "GHSwx2mB9jej"
      },
      "execution_count": null,
      "outputs": [],
      "id": "GHSwx2mB9jej"
    },
    {
      "cell_type": "code",
      "source": [
        "# features for vibration_z_c6\n",
        "\n",
        "vibration_z_c6_rms = scaler.fit_transform(np.sqrt([np.mean(array**2) for array in vibration_z_c6]).reshape(-1, 1)).flatten()\n",
        "vibration_z_c6_var = scaler.fit_transform(np.array([np.var(array) for array in vibration_z_c6]).reshape(-1, 1)).flatten()\n",
        "vibration_z_c6_max = scaler.fit_transform(np.array([np.max(array) for array in vibration_z_c6]).reshape(-1, 1)).flatten()\n",
        "vibration_z_c6_skw = scaler.fit_transform(np.array([skew(array) for array in vibration_z_c6]).reshape(-1, 1)).flatten()\n",
        "vibration_z_c6_krt = scaler.fit_transform(np.array([kurtosis(array) for array in vibration_z_c6]).reshape(-1, 1)).flatten()\n",
        "vibration_z_c6_ptp = scaler.fit_transform(np.array([np.ptp(array) for array in vibration_z_c6]).reshape(-1, 1)).flatten()\n",
        "\n",
        "vibration_z_c6_fft = np.abs([fft(array) for array in vibration_z_c6])\n",
        "vibration_z_c6_sskw = scaler.fit_transform(np.array([skew(array) for array in vibration_z_c6_fft]).reshape(-1, 1)).flatten()\n",
        "vibration_z_c6_skrt = scaler.fit_transform(np.array([kurtosis(array) for array in vibration_z_c6_fft]).reshape(-1, 1)).flatten()\n",
        "\n",
        "vibration_z_c6_wave = scaler.fit_transform(np.array([wavelet_energy(array) for array in vibration_z_c6_fft]).reshape(-1, 1)).flatten()"
      ],
      "metadata": {
        "id": "Yr3cbjnT9jej"
      },
      "execution_count": null,
      "outputs": [],
      "id": "Yr3cbjnT9jej"
    },
    {
      "cell_type": "code",
      "source": [
        "c6_features = np.stack((force_x_c6_rms, force_x_c6_var, force_x_c6_max,\n",
        "                        force_x_c6_skw, force_x_c6_krt, force_x_c6_ptp,\n",
        "                        force_x_c6_sskw, force_x_c6_skrt, force_x_c6_wave,\n",
        "                        force_y_c6_rms, force_y_c6_var, force_y_c6_max,\n",
        "                        force_y_c6_skw, force_y_c6_krt, force_y_c6_ptp,\n",
        "                        force_y_c6_sskw, force_y_c6_skrt, force_y_c6_wave,\n",
        "                        force_z_c6_rms, force_z_c6_var, force_z_c6_max,\n",
        "                        force_z_c6_skw, force_z_c6_krt, force_z_c6_ptp,\n",
        "                        force_z_c6_sskw, force_z_c6_skrt, force_z_c6_wave,\n",
        "                        vibration_x_c6_rms, vibration_x_c6_var, vibration_x_c6_max,\n",
        "                        vibration_x_c6_skw, vibration_x_c6_krt, vibration_x_c6_ptp,\n",
        "                        vibration_x_c6_sskw, vibration_x_c6_skrt, vibration_x_c6_wave,\n",
        "                        vibration_y_c6_rms, vibration_y_c6_var, vibration_y_c6_max,\n",
        "                        vibration_y_c6_skw, vibration_y_c6_krt, vibration_y_c6_ptp,\n",
        "                        vibration_y_c6_sskw, vibration_y_c6_skrt, vibration_y_c6_wave,\n",
        "                        vibration_z_c6_rms, vibration_z_c6_var, vibration_z_c6_max,\n",
        "                        vibration_z_c6_skw, vibration_z_c6_krt, vibration_z_c6_ptp,\n",
        "                        vibration_z_c6_sskw, vibration_z_c6_skrt, vibration_z_c6_wave\n",
        "                        ),\n",
        "                       axis = 1)"
      ],
      "metadata": {
        "id": "p3hX0eUJ9jej"
      },
      "execution_count": null,
      "outputs": [],
      "id": "p3hX0eUJ9jej"
    },
    {
      "cell_type": "code",
      "source": [
        "c6_target = scaler.fit_transform(c6_target.reshape(-1, 1)).flatten()"
      ],
      "metadata": {
        "id": "6NBLxieviJmx"
      },
      "id": "6NBLxieviJmx",
      "execution_count": null,
      "outputs": []
    },
    {
      "cell_type": "code",
      "source": [
        "fig, ax = plt.subplots(3,3)\n",
        "ax[0,0].plot(force_x_c1_rms)\n",
        "ax[0,0].set_title(\"RMS\")\n",
        "ax[0,1].plot(force_x_c1_var)\n",
        "ax[0,1].set_title(\"Variance\")\n",
        "ax[0,2].plot(force_x_c1_max)\n",
        "ax[0,2].set_title(\"Max\")\n",
        "ax[1,0].plot(force_x_c1_skw)\n",
        "ax[1,0].set_title(\"Skewness\")\n",
        "ax[1,1].plot(force_x_c1_krt)\n",
        "ax[1,1].set_title(\"Kurtosis\")\n",
        "ax[1,2].plot(force_x_c1_ptp)\n",
        "ax[1,2].set_title(\"Peak to Peak\")\n",
        "ax[2,0].plot(force_x_c1_sskw)\n",
        "ax[2,0].set_title(\"Spectral skewness\")\n",
        "ax[2,1].plot(force_x_c1_skrt)\n",
        "ax[2,1].set_title(\"Spectral Kurtosis\")\n",
        "ax[2,2].plot(force_x_c1_wave)\n",
        "ax[2,2].set_title(\"Wavelet energy\")\n",
        "\n",
        "plt.subplots_adjust(left=0.1,\n",
        "                    bottom=0.2,\n",
        "                    right=0.9,\n",
        "                    top=1.5,\n",
        "                    wspace=0.6,\n",
        "                    hspace=0.4)"
      ],
      "metadata": {
        "id": "bmyM51PnHNjQ"
      },
      "id": "bmyM51PnHNjQ",
      "execution_count": null,
      "outputs": []
    },
    {
      "cell_type": "markdown",
      "source": [
        "## Models"
      ],
      "metadata": {
        "id": "7dGkK4ymClpD"
      },
      "id": "7dGkK4ymClpD"
    },
    {
      "cell_type": "code",
      "source": [
        "from sklearn.linear_model import LinearRegression\n",
        "from sklearn.svm import SVR\n",
        "from statsmodels.tsa.arima.model import ARIMA\n",
        "from sklearn.metrics import mean_squared_error, mean_absolute_error, mean_absolute_percentage_error\n",
        "from keras import Input\n",
        "from keras.models import Sequential\n",
        "from keras.layers import Dense, Activation"
      ],
      "metadata": {
        "id": "YzSexhz0Cd81"
      },
      "id": "YzSexhz0Cd81",
      "execution_count": null,
      "outputs": []
    },
    {
      "cell_type": "code",
      "source": [
        "X_train = np.vstack((c1_features, c4_features))\n",
        "y_train = np.hstack((c1_target, c4_target))\n",
        "X_test = c6_features\n",
        "y_test = c6_target"
      ],
      "metadata": {
        "id": "BXw2XZRCXUJe"
      },
      "id": "BXw2XZRCXUJe",
      "execution_count": null,
      "outputs": []
    },
    {
      "cell_type": "markdown",
      "source": [
        "### Linear Regression without PCA"
      ],
      "metadata": {
        "id": "6Aga7AQyMisq"
      },
      "id": "6Aga7AQyMisq"
    },
    {
      "cell_type": "code",
      "source": [
        "lrr = LinearRegression().fit(X_train, y_train)\n",
        "pred = lrr.predict(X_test)\n",
        "plt.plot(pred, label = 'Pred')\n",
        "plt.plot(y_test, label = 'True')\n",
        "plt.legend()\n",
        "plt.title('Linear Regression without PCA')\n",
        "plt.ylabel('Wear')\n",
        "rmse = np.sqrt(mean_squared_error(y_test, pred))\n",
        "mae = mean_absolute_error(y_test, pred)\n",
        "mape = mean_absolute_percentage_error(y_test, pred)\n",
        "print('Test RMSE: %.3f' % rmse)\n",
        "print('Test MAE: %.3f' % mae)\n",
        "print('Test MAPE: %.3f' % mape)"
      ],
      "metadata": {
        "id": "8hv1sB89CeAZ"
      },
      "id": "8hv1sB89CeAZ",
      "execution_count": null,
      "outputs": []
    },
    {
      "cell_type": "markdown",
      "source": [
        "### SVR without PCA"
      ],
      "metadata": {
        "id": "sEyrebTdMzks"
      },
      "id": "sEyrebTdMzks"
    },
    {
      "cell_type": "code",
      "source": [
        "# SVR?"
      ],
      "metadata": {
        "id": "yavSFs_wNFV5"
      },
      "id": "yavSFs_wNFV5",
      "execution_count": null,
      "outputs": []
    },
    {
      "cell_type": "code",
      "source": [
        "svr = SVR(kernel = 'poly', gamma = 10, C = 10).fit(X_train, y_train)\n",
        "pred = svr.predict(X_test)\n",
        "plt.plot(pred, label = 'Pred')\n",
        "plt.plot(y_test, label = 'True')\n",
        "plt.legend()\n",
        "plt.title('SVR (poly) without PCA')\n",
        "rmse = np.sqrt(mean_squared_error(y_test, pred))\n",
        "mae = mean_absolute_error(y_test, pred)\n",
        "mape = mean_absolute_percentage_error(y_test, pred)\n",
        "print('Test RMSE: %.3f' % rmse)\n",
        "print('Test MAE: %.3f' % mae)\n",
        "print('Test MAPE: %.3f' % mape)"
      ],
      "metadata": {
        "id": "IZ_ZKotWCeLl"
      },
      "id": "IZ_ZKotWCeLl",
      "execution_count": null,
      "outputs": []
    },
    {
      "cell_type": "code",
      "source": [
        "svr = SVR(kernel = 'sigmoid', gamma = 10, C = 10).fit(X_train, y_train)\n",
        "pred = svr.predict(X_test)\n",
        "plt.plot(pred, label = 'Pred')\n",
        "plt.plot(y_test, label = 'True')\n",
        "plt.legend()\n",
        "plt.title('SCR (sigmoid) without PCA')\n",
        "rmse = np.sqrt(mean_squared_error(y_test, pred))\n",
        "mae = mean_absolute_error(y_test, pred)\n",
        "mape = mean_absolute_percentage_error(y_test, pred)\n",
        "print('Test RMSE: %.3f' % rmse)\n",
        "print('Test MAE: %.3f' % mae)\n",
        "print('Test MAPE: %.3f' % mape)"
      ],
      "metadata": {
        "id": "qqS1yUBXEib5"
      },
      "id": "qqS1yUBXEib5",
      "execution_count": null,
      "outputs": []
    },
    {
      "cell_type": "code",
      "source": [
        "svr = SVR(kernel = 'rbf', gamma = 10, C = 10).fit(X_train, y_train)\n",
        "pred = svr.predict(X_test)\n",
        "plt.plot(pred, label = 'Pred')\n",
        "plt.plot(y_test, label = 'True')\n",
        "plt.legend()\n",
        "plt.title('SVR (rbf) without PCA')\n",
        "rmse = np.sqrt(mean_squared_error(y_test, pred))\n",
        "mae = mean_absolute_error(y_test, pred)\n",
        "mape = mean_absolute_percentage_error(y_test, pred)\n",
        "print('Test RMSE: %.3f' % rmse)\n",
        "print('Test MAE: %.3f' % mae)\n",
        "print('Test MAPE: %.3f' % mape)"
      ],
      "metadata": {
        "id": "8WoexFJiEieP"
      },
      "id": "8WoexFJiEieP",
      "execution_count": null,
      "outputs": []
    },
    {
      "cell_type": "markdown",
      "source": [
        "### Neural Network without PCA"
      ],
      "metadata": {
        "id": "MRKiYyNNeXMs"
      },
      "id": "MRKiYyNNeXMs"
    },
    {
      "cell_type": "code",
      "source": [
        "model = Sequential()\n",
        "model.add(Input(shape = (54, )))\n",
        "model.add(Dense(64, activation = 'relu'))\n",
        "model.add(Dense(32, activation = 'relu'))\n",
        "model.add(Dense(16, activation = 'sigmoid'))\n",
        "model.add(Dense(1))\n",
        "model.compile(optimizer='sgd', loss='mse')\n",
        "\n",
        "model.fit(X_train, y_train, batch_size = 16, epochs=20)\n",
        "\n",
        "pred = model.predict(X_test)\n",
        "\n",
        "plt.plot(pred, label = 'Pred')\n",
        "plt.plot(y_test, label = 'True')\n",
        "plt.legend()\n",
        "plt.title('Neural Network without PCA')\n",
        "rmse = np.sqrt(mean_squared_error(y_test, pred))\n",
        "mae = mean_absolute_error(y_test, pred)\n",
        "mape = mean_absolute_percentage_error(y_test, pred)\n",
        "print('Test RMSE: %.3f' % rmse)\n",
        "print('Test MAE: %.3f' % mae)\n",
        "print('Test MAPE: %.3f' % mape)"
      ],
      "metadata": {
        "id": "cgimkIgreWmC"
      },
      "id": "cgimkIgreWmC",
      "execution_count": null,
      "outputs": []
    },
    {
      "cell_type": "markdown",
      "source": [
        "### PCA"
      ],
      "metadata": {
        "id": "S0ZHu448NOBm"
      },
      "id": "S0ZHu448NOBm"
    },
    {
      "cell_type": "code",
      "source": [
        "from sklearn.decomposition import PCA"
      ],
      "metadata": {
        "id": "Kg0o84zAatfA"
      },
      "id": "Kg0o84zAatfA",
      "execution_count": null,
      "outputs": []
    },
    {
      "cell_type": "code",
      "source": [
        "pca = PCA(n_components = 12)\n",
        "pca.fit(X_train)\n",
        "a = pca.explained_variance_ratio_\n",
        "np.cumsum(a)"
      ],
      "metadata": {
        "id": "XkRVE_XSaw2G"
      },
      "id": "XkRVE_XSaw2G",
      "execution_count": null,
      "outputs": []
    },
    {
      "cell_type": "code",
      "source": [
        "print(abs( pca.components_ ))"
      ],
      "metadata": {
        "id": "oRhvVpSGjLjk"
      },
      "id": "oRhvVpSGjLjk",
      "execution_count": null,
      "outputs": []
    },
    {
      "cell_type": "code",
      "source": [
        "X_train_decomposed = pca.transform(X_train)\n",
        "X_test_decomposed = pca.transform(X_test)"
      ],
      "metadata": {
        "id": "sfD26teT8cX1"
      },
      "id": "sfD26teT8cX1",
      "execution_count": null,
      "outputs": []
    },
    {
      "cell_type": "code",
      "source": [
        "# pca.get_feature_names_out(input_features=('force_x_c1_rms', 'force_x_c1_var', 'force_x_c1_max',\n",
        "#                         'force_x_c1_skw', 'force_x_c1_krt', 'force_x_c1_ptp',\n",
        "#                         'force_x_c1_sskw', 'force_x_c1_skrt', 'force_x_c1_wave',\n",
        "#                         'force_y_c1_rms', 'force_y_c1_var', 'force_y_c1_max',\n",
        "#                         'force_y_c1_skw', 'force_y_c1_krt', 'force_y_c1_ptp',\n",
        "#                         'force_y_c1_sskw', 'force_y_c1_skrt', 'force_y_c1_wave',\n",
        "#                         'force_z_c1_rms', 'force_z_c1_var', 'force_z_c1_max',\n",
        "#                         'force_z_c1_skw', 'force_z_c1_krt', 'force_z_c1_ptp',\n",
        "#                         'force_z_c1_sskw', 'force_z_c1_skrt', 'force_z_c1_wave',\n",
        "#                         'vibration_x_c1_rms', 'vibration_x_c1_var', 'vibration_x_c1_max',\n",
        "#                         'vibration_x_c1_skw', 'vibration_x_c1_krt', 'vibration_x_c1_ptp',\n",
        "#                         'vibration_x_c1_sskw', 'vibration_x_c1_skrt', 'vibration_x_c1_wave',\n",
        "#                         'vibration_y_c1_rms', 'vibration_y_c1_var', 'vibration_y_c1_max',\n",
        "#                         'vibration_y_c1_skw', 'vibration_y_c1_krt', 'vibration_y_c1_ptp',\n",
        "#                         'vibration_y_c1_sskw', 'vibration_y_c1_skrt', 'vibration_y_c1_wave',\n",
        "#                         'vibration_z_c1_rms', 'vibration_z_c1_var', 'vibration_z_c1_max',\n",
        "#                         'vibration_z_c1_skw', 'vibration_z_c1_krt', 'vibration_z_c1_ptp',\n",
        "#                         'vibration_z_c1_sskw', 'vibration_z_c1_skrt', 'vibration_z_c1_wave'\n",
        "#                         ))\n"
      ],
      "metadata": {
        "id": "78bnbrTM7jQq"
      },
      "id": "78bnbrTM7jQq",
      "execution_count": null,
      "outputs": []
    },
    {
      "cell_type": "markdown",
      "source": [
        "### Linear Regression with PCA"
      ],
      "metadata": {
        "id": "NNiUpuOnNeVe"
      },
      "id": "NNiUpuOnNeVe"
    },
    {
      "cell_type": "code",
      "source": [
        "lrr = LinearRegression().fit(X_train_decomposed, y_train)\n",
        "pred = lrr.predict(X_test_decomposed)\n",
        "plt.plot(pred, label = 'Pred')\n",
        "plt.plot(y_test, label = 'True')\n",
        "plt.legend()\n",
        "plt.title('Linear Regression with PCA')\n",
        "rmse = np.sqrt(mean_squared_error(y_test, pred))\n",
        "mae = mean_absolute_error(y_test, pred)\n",
        "mape = mean_absolute_percentage_error(y_test, pred)\n",
        "print('Test RMSE: %.3f' % rmse)\n",
        "print('Test MAE: %.3f' % mae)\n",
        "print('Test MAPE: %.3f' % mape)"
      ],
      "metadata": {
        "id": "lbPs8RqMFXLL"
      },
      "execution_count": null,
      "outputs": [],
      "id": "lbPs8RqMFXLL"
    },
    {
      "cell_type": "markdown",
      "source": [
        "### SVR with PCA"
      ],
      "metadata": {
        "id": "5ncaAseANlQV"
      },
      "id": "5ncaAseANlQV"
    },
    {
      "cell_type": "code",
      "source": [
        "model = SVR()\n",
        "model.fit(X_train_decomposed, y_train)\n",
        "\n",
        "# print prediction results\n",
        "predictions = model.predict(X_test_decomposed)"
      ],
      "metadata": {
        "id": "GJ0-tmY5n3B9"
      },
      "id": "GJ0-tmY5n3B9",
      "execution_count": null,
      "outputs": []
    },
    {
      "cell_type": "code",
      "source": [
        "from sklearn.model_selection import GridSearchCV\n",
        "\n",
        "param_grid = {'C': [0.1, 1, 10, 100, 1000],\n",
        "              'gamma': [1, 0.1, 0.01, 0.001, 0.0001],\n",
        "              'kernel': ['rbf','poly']}\n",
        "grid = GridSearchCV(SVR(), param_grid, refit = True, verbose = 3)\n",
        "grid.fit(X_train_decomposed, y_train)"
      ],
      "metadata": {
        "id": "hPsguSU1nr8y"
      },
      "id": "hPsguSU1nr8y",
      "execution_count": null,
      "outputs": []
    },
    {
      "cell_type": "code",
      "source": [
        "print(grid.best_params_)  #Best parameters based on hyper-parameter tuninig\n",
        "print(grid.best_estimator_)"
      ],
      "metadata": {
        "id": "cssMy8e3oIwu"
      },
      "id": "cssMy8e3oIwu",
      "execution_count": null,
      "outputs": []
    },
    {
      "cell_type": "code",
      "source": [
        "svr = SVR(kernel = 'rbf', gamma = 0.0001, C = 10).fit(X_train_decomposed, y_train)\n",
        "pred = svr.predict(X_test_decomposed)\n",
        "plt.plot(pred, label = 'Pred')\n",
        "plt.plot(y_test, label = 'True')\n",
        "plt.legend()\n",
        "plt.title('SVR with PCA')\n",
        "rmse = np.sqrt(mean_squared_error(y_test, pred))\n",
        "mae = mean_absolute_error(y_test, pred)\n",
        "mape = mean_absolute_percentage_error(y_test, pred)\n",
        "print('Test RMSE: %.3f' % rmse)\n",
        "print('Test MAE: %.3f' % mae)\n",
        "print('Test MAPE: %.3f' % mape)"
      ],
      "metadata": {
        "id": "-LsCl2ysNq5C"
      },
      "execution_count": null,
      "outputs": [],
      "id": "-LsCl2ysNq5C"
    },
    {
      "cell_type": "code",
      "source": [
        "svr = SVR(kernel = 'sigmoid', gamma = 10, C = 10).fit(X_train_decomposed, y_train)\n",
        "pred = svr.predict(X_test_decomposed)\n",
        "plt.plot(pred, label = 'Pred')\n",
        "plt.plot(y_test, label = 'True')\n",
        "plt.legend()\n",
        "rmse = np.sqrt(mean_squared_error(y_test, pred))\n",
        "mae = mean_absolute_error(y_test, pred)\n",
        "mape = mean_absolute_percentage_error(y_test, pred)\n",
        "print('Test RMSE: %.3f' % rmse)\n",
        "print('Test MAE: %.3f' % mae)\n",
        "print('Test MAPE: %.3f' % mape)"
      ],
      "metadata": {
        "id": "o6FpHA1iNq5K"
      },
      "execution_count": null,
      "outputs": [],
      "id": "o6FpHA1iNq5K"
    },
    {
      "cell_type": "code",
      "source": [
        "svr = SVR(kernel = 'rbf', gamma = 10, C = 10).fit(X_train_decomposed, y_train)\n",
        "pred = svr.predict(X_test_decomposed)\n",
        "plt.plot(pred, label = 'Pred')\n",
        "plt.plot(c6_target, label = 'True')\n",
        "plt.legend()\n",
        "rmse = np.sqrt(mean_squared_error(y_test, pred))\n",
        "mae = mean_absolute_error(y_test, pred)\n",
        "mape = mean_absolute_percentage_error(y_test, pred)\n",
        "print('Test RMSE: %.3f' % rmse)\n",
        "print('Test MAE: %.3f' % mae)\n",
        "print('Test MAPE: %.3f' % mape)"
      ],
      "metadata": {
        "id": "Cj2NAQjMNq5K"
      },
      "execution_count": null,
      "outputs": [],
      "id": "Cj2NAQjMNq5K"
    },
    {
      "cell_type": "markdown",
      "source": [
        "### Neural Network with PCA"
      ],
      "metadata": {
        "id": "z-lCJD1MBbJZ"
      },
      "id": "z-lCJD1MBbJZ"
    },
    {
      "cell_type": "code",
      "source": [
        "model = Sequential()\n",
        "model.add(Input(shape = (9, )))\n",
        "model.add(Dense(64, activation = 'relu'))\n",
        "model.add(Dense(32, activation = 'relu'))\n",
        "model.add(Dense(16, activation = 'sigmoid'))\n",
        "model.add(Dense(1))\n",
        "model.compile(optimizer='rmsprop', loss='mse')\n",
        "\n",
        "model.fit(X_train_decomposed, y_train, batch_size = 128, epochs=15)\n",
        "\n",
        "pred = model.predict(X_test_decomposed)\n",
        "\n",
        "plt.plot(pred, label = 'Pred')\n",
        "plt.plot(y_test, label = 'True')\n",
        "plt.legend()\n",
        "plt.title('Neural Network with PCA')\n",
        "rmse = np.sqrt(mean_squared_error(y_test, pred))\n",
        "mae = mean_absolute_error(y_test, pred)\n",
        "mape = mean_absolute_percentage_error(y_test, pred)\n",
        "print('Test RMSE: %.3f' % rmse)\n",
        "print('Test MAE: %.3f' % mae)\n",
        "print('Test MAPE: %.3f' % mape)"
      ],
      "metadata": {
        "id": "hyot2CqDdDvg"
      },
      "id": "hyot2CqDdDvg",
      "execution_count": null,
      "outputs": []
    },
    {
      "cell_type": "markdown",
      "source": [
        "### ARMA/ARIMA"
      ],
      "metadata": {
        "id": "u8uwsTf2Nz5D"
      },
      "id": "u8uwsTf2Nz5D"
    },
    {
      "cell_type": "code",
      "source": [
        "import warnings\n",
        "from math import sqrt\n",
        "from statsmodels.tsa.arima.model import ARIMA"
      ],
      "metadata": {
        "id": "J4bLGv_2HGV_"
      },
      "id": "J4bLGv_2HGV_",
      "execution_count": null,
      "outputs": []
    },
    {
      "cell_type": "code",
      "source": [
        "c6_target = pd.read_csv(filepath+'Testing Dataset/'+'c6_wear.csv', header = 0).drop(columns=['cut']).to_numpy()\n",
        "c6_target = np.linalg.norm(c6_target, axis=1)"
      ],
      "metadata": {
        "id": "dlUAFhCFHGTE"
      },
      "id": "dlUAFhCFHGTE",
      "execution_count": null,
      "outputs": []
    },
    {
      "cell_type": "code",
      "source": [
        "x = np.arange(1, 316, 1)\n",
        "train_size = int(len(c6_target) * 0.66)\n",
        "x_train, x_test = x[0:train_size], x[train_size:]\n",
        "y_train, y_test = c6_target[0:train_size], c6_target[train_size:]"
      ],
      "metadata": {
        "id": "WvKNlhtZqn8j"
      },
      "id": "WvKNlhtZqn8j",
      "execution_count": null,
      "outputs": []
    },
    {
      "cell_type": "code",
      "source": [
        "# evaluate an ARIMA model for a given order (p,d,q)\n",
        "def evaluate_arima_model(X, arima_order):\n",
        "    # prepare training dataset\n",
        "    train_size = int(len(X) * 0.66)\n",
        "    train, test = X[0:train_size], X[train_size:]\n",
        "    history = [x for x in train]\n",
        "    # make predictions\n",
        "    predictions = list()\n",
        "    for t in range(len(test)):\n",
        "      model = ARIMA(history, order=arima_order)\n",
        "      model_fit = model.fit()\n",
        "      yhat = model_fit.forecast()[0]\n",
        "      predictions.append(yhat)\n",
        "      history.append(test[t])\n",
        "    # calculate out of sample error\n",
        "    rmse = sqrt(mean_squared_error(test, predictions))\n",
        "    return rmse"
      ],
      "metadata": {
        "id": "cKlj-AxyA-2c"
      },
      "id": "cKlj-AxyA-2c",
      "execution_count": null,
      "outputs": []
    },
    {
      "cell_type": "code",
      "source": [
        "# evaluate combinations of p, d and q values for an ARIMA model\n",
        "def evaluate_models(dataset, p_values, d_values, q_values):\n",
        " dataset = dataset.astype('float32')\n",
        " best_score, best_cfg = float(\"inf\"), None\n",
        " for p in p_values:\n",
        "  for d in d_values:\n",
        "    for q in q_values:\n",
        "      order = (p,d,q)\n",
        "      try:\n",
        "        rmse = evaluate_arima_model(dataset, order)\n",
        "        if rmse < best_score:\n",
        "          best_score, best_cfg = rmse, order\n",
        "          print('ARIMA%s RMSE=%.3f' % (order,rmse))\n",
        "      except:\n",
        "        continue\n",
        " print('Best ARIMA%s RMSE=%.3f' % (best_cfg, best_score))"
      ],
      "metadata": {
        "id": "BoDsPHzaA-zl"
      },
      "id": "BoDsPHzaA-zl",
      "execution_count": null,
      "outputs": []
    },
    {
      "cell_type": "code",
      "source": [
        "# grid search ARMA parameters for time series (d = 0)\n",
        "\n",
        "p_values = [1, 2, 4, 6, 8, 10]\n",
        "d_values = [0]\n",
        "q_values = range(0, 3)\n",
        "evaluate_models(c6_target, p_values, d_values, q_values)"
      ],
      "metadata": {
        "id": "peX4zGcnA-u5"
      },
      "id": "peX4zGcnA-u5",
      "execution_count": null,
      "outputs": []
    },
    {
      "cell_type": "code",
      "source": [
        "y_test = c6_target"
      ],
      "metadata": {
        "id": "ynZ9B2H9mDAA"
      },
      "id": "ynZ9B2H9mDAA",
      "execution_count": null,
      "outputs": []
    },
    {
      "cell_type": "code",
      "source": [
        "from matplotlib import pyplot as plt"
      ],
      "metadata": {
        "id": "K9sK4DPVmsON"
      },
      "id": "K9sK4DPVmsON",
      "execution_count": null,
      "outputs": []
    },
    {
      "cell_type": "code",
      "source": [
        "warnings.filterwarnings(\"ignore\")\n",
        "\n",
        "X = c6_target\n",
        "train_size = int(len(X) * 0.66)\n",
        "train, test = X[0:train_size], X[train_size:]\n",
        "\n",
        "history = [x for x in train]\n",
        "pred = list()\n",
        "\n",
        "# walk-forward prediction\n",
        "for t in range(len(test)):\n",
        "  model = ARIMA(history, order=(4, 0, 1))   # replace with best values obtained from the grid search\n",
        "  model_fit = model.fit()\n",
        "  output = model_fit.forecast()\n",
        "  yhat = output[0]\n",
        "  pred.append(yhat)\n",
        "  obs = test[t]\n",
        "  history.append(obs)\n",
        "#  print('predicted=%f, expected=%f' % (yhat, obs))\n",
        "\n",
        "# evaluate predictions\n",
        "rmse = np.sqrt(mean_squared_error(test, pred))\n",
        "mae = mean_absolute_error(test, pred)\n",
        "mape = mean_absolute_percentage_error(test, pred)\n",
        "print('Test RMSE: %.3f' % rmse)\n",
        "print('Test MAE: %.3f' % mae)\n",
        "print('Test MAPE: %.3f' % mape)\n",
        "\n",
        "# plot predictions against actual outcomes\n",
        "plt.plot(np.arange(0, train_size, 1), train, label = 'train')\n",
        "plt.plot(np.arange(train_size, len(X), 1), test, label = 'test')\n",
        "plt.plot(np.arange(train_size, len(X), 1), pred, color='red', label = 'pred')\n",
        "plt.legend()\n",
        "plt.show()"
      ],
      "metadata": {
        "id": "-VGhKuxWcloZ"
      },
      "id": "-VGhKuxWcloZ",
      "execution_count": null,
      "outputs": []
    },
    {
      "cell_type": "code",
      "source": [
        "# grid search ARIMA parameters for time series (d > 0)\n",
        "\n",
        "p_values = [1, 2, 4, 6, 8, 10]\n",
        "d_values = range(1, 3)\n",
        "q_values = range(0, 3)\n",
        "evaluate_models(c6_target, p_values, d_values, q_values)"
      ],
      "metadata": {
        "id": "ERktpl24A-ng"
      },
      "id": "ERktpl24A-ng",
      "execution_count": null,
      "outputs": []
    },
    {
      "cell_type": "code",
      "source": [
        "warnings.filterwarnings(\"ignore\")\n",
        "\n",
        "X = c6_target\n",
        "train_size = int(len(X) * 0.66)\n",
        "train, test = X[0:train_size], X[train_size:]\n",
        "\n",
        "history = [x for x in train]\n",
        "pred = list()\n",
        "\n",
        "# walk-forward prediction\n",
        "for t in range(len(test)):\n",
        "  model = ARIMA(history, order=(1, 2, 0))   # replace with best values obtained from the grid search\n",
        "  model_fit = model.fit()\n",
        "  output = model_fit.forecast()\n",
        "  yhat = output[0]\n",
        "  pred.append(yhat)\n",
        "  obs = test[t]\n",
        "  history.append(obs)\n",
        "#  print('predicted=%f, expected=%f' % (yhat, obs))\n",
        "\n",
        "# evaluate predictions\n",
        "rmse = np.sqrt(mean_squared_error(y_test, pred))\n",
        "mae = mean_absolute_error(y_test, pred)\n",
        "mape = mean_absolute_percentage_error(y_test, pred)\n",
        "print('Test RMSE: %.3f' % rmse)\n",
        "print('Test MAE: %.3f' % mae)\n",
        "print('Test MAPE: %.3f' % mape)\n",
        "\n",
        "# plot predictions against actual outcomes\n",
        "plt.plot(np.arange(0, train_size, 1), train, label = 'train')\n",
        "plt.plot(np.arange(train_size, len(X), 1), test, label = 'test')\n",
        "plt.plot(np.arange(train_size, len(X), 1), pred, color='red', label = 'pred')\n",
        "plt.legend()\n",
        "plt.show()"
      ],
      "metadata": {
        "id": "dqATGTrVMK02"
      },
      "id": "dqATGTrVMK02",
      "execution_count": null,
      "outputs": []
    },
    {
      "cell_type": "markdown",
      "source": [
        "### Exponential Curve Fitting"
      ],
      "metadata": {
        "id": "foAqRD6Pet8C"
      },
      "id": "foAqRD6Pet8C"
    },
    {
      "cell_type": "code",
      "source": [
        "from scipy.optimize import curve_fit"
      ],
      "metadata": {
        "id": "ovs_bwEDs0b_"
      },
      "id": "ovs_bwEDs0b_",
      "execution_count": null,
      "outputs": []
    },
    {
      "cell_type": "code",
      "source": [
        "def func(x, a, b, c):\n",
        "    return a * np.exp(-b * x)   # fitting data to y = A*exp(-bx)\n",
        "\n",
        "popt, pcov = curve_fit(func, x_train, y_train)\n",
        "\n",
        "pred = func(x_test, *popt)\n",
        "\n",
        "rmse = np.sqrt(mean_squared_error(y_test, pred))\n",
        "mae = mean_absolute_error(y_test, pred)\n",
        "mape = mean_absolute_percentage_error(y_test, pred)\n",
        "print('Test RMSE: %.3f' % rmse)\n",
        "print('Test MAE: %.3f' % mae)\n",
        "print('Test MAPE: %.3f' % mape)\n",
        "\n",
        "plt.plot(x_train, y_train, label = 'train')\n",
        "plt.plot(x_test, y_test, label = 'test')\n",
        "plt.plot(x_test, pred, color='red', label = 'pred')\n",
        "plt.title('Predictions using Exponential curve fitting')\n",
        "plt.xlabel('Sample number')\n",
        "plt.ylabel('C6 Wear value')\n",
        "plt.legend()\n",
        "plt.show()"
      ],
      "metadata": {
        "id": "PKiozAOLsI3Y"
      },
      "id": "PKiozAOLsI3Y",
      "execution_count": null,
      "outputs": []
    },
    {
      "cell_type": "code",
      "source": [],
      "metadata": {
        "id": "uj481yNasIye"
      },
      "id": "uj481yNasIye",
      "execution_count": null,
      "outputs": []
    },
    {
      "cell_type": "code",
      "source": [],
      "metadata": {
        "id": "bcV0HMIzsIvq"
      },
      "id": "bcV0HMIzsIvq",
      "execution_count": null,
      "outputs": []
    },
    {
      "cell_type": "code",
      "source": [],
      "metadata": {
        "id": "lJfUMb6ksIrL"
      },
      "id": "lJfUMb6ksIrL",
      "execution_count": null,
      "outputs": []
    },
    {
      "cell_type": "code",
      "source": [],
      "metadata": {
        "id": "Y0EZIemXfWiE"
      },
      "id": "Y0EZIemXfWiE",
      "execution_count": null,
      "outputs": []
    },
    {
      "cell_type": "code",
      "source": [],
      "metadata": {
        "id": "5PPSwHeVfWke"
      },
      "id": "5PPSwHeVfWke",
      "execution_count": null,
      "outputs": []
    },
    {
      "cell_type": "code",
      "source": [],
      "metadata": {
        "id": "K0f3Ymooclxp"
      },
      "id": "K0f3Ymooclxp",
      "execution_count": null,
      "outputs": []
    }
  ],
  "metadata": {
    "kernelspec": {
      "display_name": "Python 3",
      "name": "python3"
    },
    "language_info": {
      "codemirror_mode": {
        "name": "ipython",
        "version": 3
      },
      "file_extension": ".py",
      "mimetype": "text/x-python",
      "name": "python",
      "nbconvert_exporter": "python",
      "pygments_lexer": "ipython3",
      "version": "3.10.9"
    },
    "colab": {
      "provenance": [],
      "gpuType": "T4"
    },
    "accelerator": "GPU"
  },
  "nbformat": 4,
  "nbformat_minor": 5
}